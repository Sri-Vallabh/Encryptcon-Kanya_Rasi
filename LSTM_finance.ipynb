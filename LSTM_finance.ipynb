{
 "cells": [
  {
   "cell_type": "markdown",
   "metadata": {},
   "source": [
    "# Using LSTM-RNN on datasets from yfinance to predict trends"
   ]
  },
  {
   "cell_type": "code",
   "execution_count": 1,
   "metadata": {
    "execution": {
     "iopub.execute_input": "2022-02-10T01:41:25.771Z",
     "iopub.status.busy": "2022-02-10T01:41:25.763Z",
     "iopub.status.idle": "2022-02-10T01:41:25.780Z",
     "shell.execute_reply": "2022-02-10T01:41:25.790Z"
    },
    "jupyter": {
     "outputs_hidden": false,
     "source_hidden": false
    },
    "nteract": {
     "transient": {
      "deleting": false
     }
    }
   },
   "outputs": [
    {
     "name": "stderr",
     "output_type": "stream",
     "text": [
      "C:\\ProgramData\\Anaconda3\\lib\\site-packages\\scipy\\__init__.py:146: UserWarning: A NumPy version >=1.16.5 and <1.23.0 is required for this version of SciPy (detected version 1.26.3\n",
      "  warnings.warn(f\"A NumPy version >={np_minversion} and <{np_maxversion}\"\n"
     ]
    },
    {
     "name": "stdout",
     "output_type": "stream",
     "text": [
      "WARNING:tensorflow:From C:\\Users\\tsriv\\AppData\\Roaming\\Python\\Python39\\site-packages\\keras\\src\\losses.py:2976: The name tf.losses.sparse_softmax_cross_entropy is deprecated. Please use tf.compat.v1.losses.sparse_softmax_cross_entropy instead.\n",
      "\n"
     ]
    }
   ],
   "source": [
    "import numpy as np\n",
    "import pandas as pd\n",
    "import matplotlib.pyplot as plt\n",
    "from sklearn.preprocessing import MinMaxScaler\n",
    "from keras.models import Sequential, load_model\n",
    "from keras.layers import LSTM, Dense, Dropout\n",
    "\n",
    "import warnings\n",
    "warnings.filterwarnings(\"ignore\")\n",
    "\n",
    "# yahoo_finance is used to fetch data \n",
    "import yfinance as yf\n",
    "yf.pdr_override()"
   ]
  },
  {
   "cell_type": "markdown",
   "metadata": {},
   "source": [
    "# Downloading the data of Sun power coorporation from 2014-01-01 to 2023-01-14"
   ]
  },
  {
   "cell_type": "code",
   "execution_count": 20,
   "metadata": {
    "execution": {
     "iopub.execute_input": "2022-01-16T22:23:22.816Z",
     "iopub.status.busy": "2022-01-16T22:23:22.812Z",
     "iopub.status.idle": "2022-01-16T22:23:24.176Z",
     "shell.execute_reply": "2022-01-16T22:23:24.209Z"
    },
    "jupyter": {
     "outputs_hidden": false,
     "source_hidden": false
    },
    "nteract": {
     "transient": {
      "deleting": false
     }
    }
   },
   "outputs": [
    {
     "name": "stdout",
     "output_type": "stream",
     "text": [
      "[*********************100%%**********************]  1 of 1 completed\n"
     ]
    },
    {
     "data": {
      "text/html": [
       "<div>\n",
       "<style scoped>\n",
       "    .dataframe tbody tr th:only-of-type {\n",
       "        vertical-align: middle;\n",
       "    }\n",
       "\n",
       "    .dataframe tbody tr th {\n",
       "        vertical-align: top;\n",
       "    }\n",
       "\n",
       "    .dataframe thead th {\n",
       "        text-align: right;\n",
       "    }\n",
       "</style>\n",
       "<table border=\"1\" class=\"dataframe\">\n",
       "  <thead>\n",
       "    <tr style=\"text-align: right;\">\n",
       "      <th></th>\n",
       "      <th>Open</th>\n",
       "      <th>High</th>\n",
       "      <th>Low</th>\n",
       "      <th>Close</th>\n",
       "      <th>Adj Close</th>\n",
       "      <th>Volume</th>\n",
       "    </tr>\n",
       "    <tr>\n",
       "      <th>Date</th>\n",
       "      <th></th>\n",
       "      <th></th>\n",
       "      <th></th>\n",
       "      <th></th>\n",
       "      <th></th>\n",
       "      <th></th>\n",
       "    </tr>\n",
       "  </thead>\n",
       "  <tbody>\n",
       "    <tr>\n",
       "      <th>2014-01-02</th>\n",
       "      <td>19.338572</td>\n",
       "      <td>21.185331</td>\n",
       "      <td>19.030779</td>\n",
       "      <td>21.152588</td>\n",
       "      <td>21.152588</td>\n",
       "      <td>6749951</td>\n",
       "    </tr>\n",
       "    <tr>\n",
       "      <th>2014-01-03</th>\n",
       "      <td>21.578259</td>\n",
       "      <td>21.768173</td>\n",
       "      <td>20.726915</td>\n",
       "      <td>21.434185</td>\n",
       "      <td>21.434185</td>\n",
       "      <td>5088880</td>\n",
       "    </tr>\n",
       "    <tr>\n",
       "      <th>2014-01-06</th>\n",
       "      <td>21.650295</td>\n",
       "      <td>21.905697</td>\n",
       "      <td>21.034710</td>\n",
       "      <td>21.244270</td>\n",
       "      <td>21.244270</td>\n",
       "      <td>5096973</td>\n",
       "    </tr>\n",
       "    <tr>\n",
       "      <th>2014-01-07</th>\n",
       "      <td>21.493124</td>\n",
       "      <td>22.220039</td>\n",
       "      <td>21.139488</td>\n",
       "      <td>21.434185</td>\n",
       "      <td>21.434185</td>\n",
       "      <td>5753125</td>\n",
       "    </tr>\n",
       "    <tr>\n",
       "      <th>2014-01-08</th>\n",
       "      <td>21.296659</td>\n",
       "      <td>21.984283</td>\n",
       "      <td>21.218075</td>\n",
       "      <td>21.630648</td>\n",
       "      <td>21.630648</td>\n",
       "      <td>3202119</td>\n",
       "    </tr>\n",
       "  </tbody>\n",
       "</table>\n",
       "</div>"
      ],
      "text/plain": [
       "                 Open       High        Low      Close  Adj Close   Volume\n",
       "Date                                                                      \n",
       "2014-01-02  19.338572  21.185331  19.030779  21.152588  21.152588  6749951\n",
       "2014-01-03  21.578259  21.768173  20.726915  21.434185  21.434185  5088880\n",
       "2014-01-06  21.650295  21.905697  21.034710  21.244270  21.244270  5096973\n",
       "2014-01-07  21.493124  22.220039  21.139488  21.434185  21.434185  5753125\n",
       "2014-01-08  21.296659  21.984283  21.218075  21.630648  21.630648  3202119"
      ]
     },
     "execution_count": 20,
     "metadata": {},
     "output_type": "execute_result"
    }
   ],
   "source": [
    "# input\n",
    "symbol = 'SPWR' #Sun power coorporation\n",
    "start = '2014-01-01'\n",
    "end = '2023-01-14'\n",
    "\n",
    "# Read data \n",
    "df = yf.download(symbol,start,end)\n",
    "\n",
    "# View Columns\n",
    "df.head()"
   ]
  },
  {
   "cell_type": "code",
   "execution_count": 3,
   "metadata": {},
   "outputs": [
    {
     "data": {
      "text/plain": [
       "Date\n",
       "2014-01-02    21.152588\n",
       "2014-01-03    21.434185\n",
       "2014-01-06    21.244270\n",
       "2014-01-07    21.434185\n",
       "2014-01-08    21.630648\n",
       "Name: Adj Close, dtype: float64"
      ]
     },
     "execution_count": 3,
     "metadata": {},
     "output_type": "execute_result"
    }
   ],
   "source": [
    "df['Adj Close'].head()"
   ]
  },
  {
   "cell_type": "markdown",
   "metadata": {},
   "source": [
    "Plotting the stock closing price to corresponding date"
   ]
  },
  {
   "cell_type": "code",
   "execution_count": 4,
   "metadata": {
    "execution": {
     "iopub.execute_input": "2022-01-16T22:23:24.187Z",
     "iopub.status.busy": "2022-01-16T22:23:24.182Z",
     "iopub.status.idle": "2022-01-16T22:23:24.300Z",
     "shell.execute_reply": "2022-01-16T22:23:24.293Z"
    },
    "jupyter": {
     "outputs_hidden": false,
     "source_hidden": false
    },
    "nteract": {
     "transient": {
      "deleting": false
     }
    }
   },
   "outputs": [
    {
     "data": {
      "text/plain": [
       "Text(0, 0.5, 'Price')"
      ]
     },
     "execution_count": 4,
     "metadata": {},
     "output_type": "execute_result"
    },
    {
     "data": {
      "image/png": "[encoded data removed]",
      "text/plain": [
       "<Figure size 432x288 with 1 Axes>"
      ]
     },
     "metadata": {
      "needs_background": "light"
     },
     "output_type": "display_data"
    }
   ],
   "source": [
    "plt.plot(df['Adj Close'])\n",
    "plt.title('Stock Closing Price')\n",
    "plt.xlabel('Date')\n",
    "plt.ylabel('Price')"
   ]
  },
  {
   "cell_type": "code",
   "execution_count": 5,
   "metadata": {
    "execution": {
     "iopub.execute_input": "2022-01-16T22:23:24.312Z",
     "iopub.status.busy": "2022-01-16T22:23:24.307Z",
     "iopub.status.idle": "2022-01-16T22:23:24.320Z",
     "shell.execute_reply": "2022-01-16T22:23:24.451Z"
    },
    "jupyter": {
     "outputs_hidden": false,
     "source_hidden": false
    },
    "nteract": {
     "transient": {
      "deleting": false
     }
    }
   },
   "outputs": [],
   "source": [
    "df = df.reset_index()"
   ]
  },
  {
   "cell_type": "markdown",
   "metadata": {},
   "source": [
    "# Modifying the df to store only the closing price"
   ]
  },
  {
   "cell_type": "code",
   "execution_count": 6,
   "metadata": {
    "execution": {
     "iopub.execute_input": "2022-01-16T22:23:24.331Z",
     "iopub.status.busy": "2022-01-16T22:23:24.327Z",
     "iopub.status.idle": "2022-01-16T22:23:24.338Z",
     "shell.execute_reply": "2022-01-16T22:23:24.455Z"
    },
    "jupyter": {
     "outputs_hidden": false,
     "source_hidden": false
    },
    "nteract": {
     "transient": {
      "deleting": false
     }
    }
   },
   "outputs": [],
   "source": [
    "df = df['Adj Close'].values\n",
    "df = df.reshape(-1, 1)"
   ]
  },
  {
   "cell_type": "code",
   "execution_count": 7,
   "metadata": {},
   "outputs": [
    {
     "data": {
      "text/plain": [
       "array([[21.15258789],\n",
       "       [21.43418503],\n",
       "       [21.24427032],\n",
       "       ...,\n",
       "       [18.70999908],\n",
       "       [18.78000069],\n",
       "       [18.65999985]])"
      ]
     },
     "execution_count": 7,
     "metadata": {},
     "output_type": "execute_result"
    }
   ],
   "source": [
    "df"
   ]
  },
  {
   "cell_type": "markdown",
   "metadata": {},
   "source": [
    "Creating two datasets namingly train and test containing 80% and 20% of df data correspondingly"
   ]
  },
  {
   "cell_type": "code",
   "execution_count": 8,
   "metadata": {
    "execution": {
     "iopub.execute_input": "2022-01-16T22:23:24.349Z",
     "iopub.status.busy": "2022-01-16T22:23:24.345Z",
     "iopub.status.idle": "2022-01-16T22:23:24.357Z",
     "shell.execute_reply": "2022-01-16T22:23:24.457Z"
    },
    "jupyter": {
     "outputs_hidden": false,
     "source_hidden": false
    },
    "nteract": {
     "transient": {
      "deleting": false
     }
    }
   },
   "outputs": [],
   "source": [
    "dataset_train = np.array(df[:int(df.shape[0]*0.8)])\n",
    "dataset_test = np.array(df[int(df.shape[0]*0.8):])"
   ]
  },
  {
   "cell_type": "markdown",
   "metadata": {},
   "source": [
    "# Scaling the data btw 0,1"
   ]
  },
  {
   "cell_type": "code",
   "execution_count": 9,
   "metadata": {
    "execution": {
     "iopub.execute_input": "2022-01-16T22:23:24.369Z",
     "iopub.status.busy": "2022-01-16T22:23:24.365Z",
     "iopub.status.idle": "2022-01-16T22:23:24.376Z",
     "shell.execute_reply": "2022-01-16T22:23:24.460Z"
    },
    "jupyter": {
     "outputs_hidden": false,
     "source_hidden": false
    },
    "nteract": {
     "transient": {
      "deleting": false
     }
    }
   },
   "outputs": [],
   "source": [
    "scaler = MinMaxScaler(feature_range=(0,1))\n",
    "dataset_train = scaler.fit_transform(dataset_train)\n",
    "dataset_test = scaler.transform(dataset_test)"
   ]
  },
  {
   "cell_type": "markdown",
   "metadata": {},
   "source": [
    "Training model for 50 days and predicting for 51st day"
   ]
  },
  {
   "cell_type": "code",
   "execution_count": 10,
   "metadata": {
    "execution": {
     "iopub.execute_input": "2022-01-16T22:23:24.387Z",
     "iopub.status.busy": "2022-01-16T22:23:24.383Z",
     "iopub.status.idle": "2022-01-16T22:23:24.394Z",
     "shell.execute_reply": "2022-01-16T22:23:24.464Z"
    },
    "jupyter": {
     "outputs_hidden": false,
     "source_hidden": false
    },
    "nteract": {
     "transient": {
      "deleting": false
     }
    }
   },
   "outputs": [],
   "source": [
    "def create_dataset(df):\n",
    "    x = []\n",
    "    y = []\n",
    "    for i in range(50, df.shape[0]):\n",
    "        x.append(df[i-50:i, 0])\n",
    "        y.append(df[i, 0])\n",
    "    x = np.array(x)\n",
    "    y = np.array(y)\n",
    "    return x,y"
   ]
  },
  {
   "cell_type": "markdown",
   "metadata": {},
   "source": [
    "# Dividing dataset into train and test data"
   ]
  },
  {
   "cell_type": "code",
   "execution_count": 11,
   "metadata": {
    "execution": {
     "iopub.execute_input": "2022-01-16T22:23:24.404Z",
     "iopub.status.busy": "2022-01-16T22:23:24.400Z",
     "iopub.status.idle": "2022-01-16T22:23:24.411Z",
     "shell.execute_reply": "2022-01-16T22:23:24.467Z"
    },
    "jupyter": {
     "outputs_hidden": false,
     "source_hidden": false
    },
    "nteract": {
     "transient": {
      "deleting": false
     }
    }
   },
   "outputs": [],
   "source": [
    "x_train, y_train = create_dataset(dataset_train)\n",
    "x_test, y_test = create_dataset(dataset_test)"
   ]
  },
  {
   "cell_type": "code",
   "execution_count": 12,
   "metadata": {
    "execution": {
     "iopub.execute_input": "2022-01-16T22:23:24.421Z",
     "iopub.status.busy": "2022-01-16T22:23:24.417Z",
     "iopub.status.idle": "2022-01-16T22:23:24.428Z",
     "shell.execute_reply": "2022-01-16T22:23:24.470Z"
    },
    "jupyter": {
     "outputs_hidden": false,
     "source_hidden": false
    },
    "nteract": {
     "transient": {
      "deleting": false
     }
    }
   },
   "outputs": [],
   "source": [
    "x_train = np.reshape(x_train, (x_train.shape[0], x_train.shape[1], 1))\n",
    "x_test = np.reshape(x_test, (x_test.shape[0], x_test.shape[1], 1))"
   ]
  },
  {
   "cell_type": "markdown",
   "metadata": {},
   "source": [
    "# LSTM Model "
   ]
  },
  {
   "cell_type": "code",
   "execution_count": 13,
   "metadata": {
    "execution": {
     "iopub.execute_input": "2022-01-16T22:23:24.438Z",
     "iopub.status.busy": "2022-01-16T22:23:24.434Z",
     "iopub.status.idle": "2022-01-16T22:23:25.157Z",
     "shell.execute_reply": "2022-01-16T22:23:25.194Z"
    },
    "jupyter": {
     "outputs_hidden": false,
     "source_hidden": false
    },
    "nteract": {
     "transient": {
      "deleting": false
     }
    }
   },
   "outputs": [
    {
     "name": "stdout",
     "output_type": "stream",
     "text": [
      "WARNING:tensorflow:From C:\\Users\\tsriv\\AppData\\Roaming\\Python\\Python39\\site-packages\\keras\\src\\backend.py:873: The name tf.get_default_graph is deprecated. Please use tf.compat.v1.get_default_graph instead.\n",
      "\n"
     ]
    }
   ],
   "source": [
    "model = Sequential()\n",
    "model.add(LSTM(units=96, return_sequences=True, input_shape=(x_train.shape[1], 1)))\n",
    "model.add(Dropout(0.2))\n",
    "model.add(LSTM(units=96,return_sequences=True))\n",
    "model.add(Dropout(0.2))\n",
    "model.add(LSTM(units=96,return_sequences=True))\n",
    "model.add(Dropout(0.2))\n",
    "model.add(LSTM(units=96))\n",
    "model.add(Dropout(0.2))\n",
    "model.add(Dense(units=1))"
   ]
  },
  {
   "cell_type": "code",
   "execution_count": 19,
   "metadata": {},
   "outputs": [
    {
     "name": "stdout",
     "output_type": "stream",
     "text": [
      "Model: \"sequential\"\n",
      "_________________________________________________________________\n",
      " Layer (type)                Output Shape              Param #   \n",
      "=================================================================\n",
      " lstm (LSTM)                 (None, 50, 96)            37632     \n",
      "                                                                 \n",
      " dropout (Dropout)           (None, 50, 96)            0         \n",
      "                                                                 \n",
      " lstm_1 (LSTM)               (None, 50, 96)            74112     \n",
      "                                                                 \n",
      " dropout_1 (Dropout)         (None, 50, 96)            0         \n",
      "                                                                 \n",
      " lstm_2 (LSTM)               (None, 50, 96)            74112     \n",
      "                                                                 \n",
      " dropout_2 (Dropout)         (None, 50, 96)            0         \n",
      "                                                                 \n",
      " lstm_3 (LSTM)               (None, 96)                74112     \n",
      "                                                                 \n",
      " dropout_3 (Dropout)         (None, 96)                0         \n",
      "                                                                 \n",
      " dense (Dense)               (None, 1)                 97        \n",
      "                                                                 \n",
      "=================================================================\n",
      "Total params: 260065 (1015.88 KB)\n",
      "Trainable params: 260065 (1015.88 KB)\n",
      "Non-trainable params: 0 (0.00 Byte)\n",
      "_________________________________________________________________\n"
     ]
    }
   ],
   "source": [
    "model.summary()"
   ]
  },
  {
   "cell_type": "code",
   "execution_count": 14,
   "metadata": {
    "execution": {
     "iopub.execute_input": "2022-01-16T22:23:25.171Z",
     "iopub.status.busy": "2022-01-16T22:23:25.166Z",
     "iopub.status.idle": "2022-01-16T22:23:25.179Z",
     "shell.execute_reply": "2022-01-16T22:23:25.197Z"
    },
    "jupyter": {
     "outputs_hidden": false,
     "source_hidden": false
    },
    "nteract": {
     "transient": {
      "deleting": false
     }
    }
   },
   "outputs": [],
   "source": [
    "x_train = np.reshape(x_train, (x_train.shape[0], x_train.shape[1], 1))\n",
    "x_test = np.reshape(x_test, (x_test.shape[0], x_test.shape[1], 1))"
   ]
  },
  {
   "cell_type": "code",
   "execution_count": 15,
   "metadata": {
    "execution": {
     "iopub.execute_input": "2022-01-16T22:23:25.190Z",
     "iopub.status.busy": "2022-01-16T22:23:25.185Z",
     "iopub.status.idle": "2022-01-16T22:23:25.211Z",
     "shell.execute_reply": "2022-01-16T22:23:25.200Z"
    },
    "jupyter": {
     "outputs_hidden": false,
     "source_hidden": false
    },
    "nteract": {
     "transient": {
      "deleting": false
     }
    }
   },
   "outputs": [
    {
     "name": "stdout",
     "output_type": "stream",
     "text": [
      "WARNING:tensorflow:From C:\\Users\\tsriv\\AppData\\Roaming\\Python\\Python39\\site-packages\\keras\\src\\optimizers\\__init__.py:309: The name tf.train.Optimizer is deprecated. Please use tf.compat.v1.train.Optimizer instead.\n",
      "\n"
     ]
    }
   ],
   "source": [
    "model.compile(loss='mean_squared_error', optimizer='adam')"
   ]
  },
  {
   "cell_type": "code",
   "execution_count": 16,
   "metadata": {
    "execution": {
     "iopub.execute_input": "2022-01-16T22:23:25.223Z",
     "iopub.status.busy": "2022-01-16T22:23:25.218Z",
     "iopub.status.idle": "2022-01-16T22:26:09.077Z",
     "shell.execute_reply": "2022-01-16T22:26:09.109Z"
    },
    "jupyter": {
     "outputs_hidden": false,
     "source_hidden": false
    },
    "nteract": {
     "transient": {
      "deleting": false
     }
    }
   },
   "outputs": [
    {
     "name": "stdout",
     "output_type": "stream",
     "text": [
      "Epoch 1/50\n",
      "WARNING:tensorflow:From C:\\Users\\tsriv\\AppData\\Roaming\\Python\\Python39\\site-packages\\keras\\src\\utils\\tf_utils.py:492: The name tf.ragged.RaggedTensorValue is deprecated. Please use tf.compat.v1.ragged.RaggedTensorValue instead.\n",
      "\n",
      "56/56 [==============================] - 7s 62ms/step - loss: 0.0051\n",
      "Epoch 2/50\n",
      "56/56 [==============================] - 3s 61ms/step - loss: 0.0022\n",
      "Epoch 3/50\n",
      "56/56 [==============================] - 3s 61ms/step - loss: 0.0018\n",
      "Epoch 4/50\n",
      "56/56 [==============================] - 3s 60ms/step - loss: 0.0021\n",
      "Epoch 5/50\n",
      "56/56 [==============================] - 3s 61ms/step - loss: 0.0018\n",
      "Epoch 6/50\n",
      "56/56 [==============================] - 3s 61ms/step - loss: 0.0016\n",
      "Epoch 7/50\n",
      "56/56 [==============================] - 3s 60ms/step - loss: 0.0017\n",
      "Epoch 8/50\n",
      "56/56 [==============================] - 4s 65ms/step - loss: 0.0015\n",
      "Epoch 9/50\n",
      "56/56 [==============================] - 3s 62ms/step - loss: 0.0014\n",
      "Epoch 10/50\n",
      "56/56 [==============================] - 3s 61ms/step - loss: 0.0012\n",
      "Epoch 11/50\n",
      "56/56 [==============================] - 3s 60ms/step - loss: 0.0014\n",
      "Epoch 12/50\n",
      "56/56 [==============================] - 4s 63ms/step - loss: 0.0013\n",
      "Epoch 13/50\n",
      "56/56 [==============================] - 4s 62ms/step - loss: 0.0013\n",
      "Epoch 14/50\n",
      "56/56 [==============================] - 3s 61ms/step - loss: 0.0013\n",
      "Epoch 15/50\n",
      "56/56 [==============================] - 3s 61ms/step - loss: 0.0013\n",
      "Epoch 16/50\n",
      "56/56 [==============================] - 3s 61ms/step - loss: 0.0012\n",
      "Epoch 17/50\n",
      "56/56 [==============================] - 3s 61ms/step - loss: 9.4242e-04\n",
      "Epoch 18/50\n",
      "56/56 [==============================] - 3s 61ms/step - loss: 9.8268e-04\n",
      "Epoch 19/50\n",
      "56/56 [==============================] - 3s 61ms/step - loss: 9.3619e-04\n",
      "Epoch 20/50\n",
      "56/56 [==============================] - 3s 61ms/step - loss: 8.8991e-04\n",
      "Epoch 21/50\n",
      "56/56 [==============================] - 3s 61ms/step - loss: 9.5384e-04\n",
      "Epoch 22/50\n",
      "56/56 [==============================] - 3s 61ms/step - loss: 8.4921e-04\n",
      "Epoch 23/50\n",
      "56/56 [==============================] - 3s 61ms/step - loss: 7.8942e-04\n",
      "Epoch 24/50\n",
      "56/56 [==============================] - 3s 61ms/step - loss: 7.7479e-04\n",
      "Epoch 25/50\n",
      "56/56 [==============================] - 3s 61ms/step - loss: 6.7997e-04\n",
      "Epoch 26/50\n",
      "56/56 [==============================] - 3s 61ms/step - loss: 7.6136e-04\n",
      "Epoch 27/50\n",
      "56/56 [==============================] - 3s 61ms/step - loss: 7.4833e-04\n",
      "Epoch 28/50\n",
      "56/56 [==============================] - 3s 61ms/step - loss: 5.8375e-04\n",
      "Epoch 29/50\n",
      "56/56 [==============================] - 3s 62ms/step - loss: 5.5661e-04\n",
      "Epoch 30/50\n",
      "56/56 [==============================] - 3s 62ms/step - loss: 5.9318e-04\n",
      "Epoch 31/50\n",
      "56/56 [==============================] - 4s 63ms/step - loss: 6.0559e-04\n",
      "Epoch 32/50\n",
      "56/56 [==============================] - 4s 65ms/step - loss: 5.7157e-04\n",
      "Epoch 33/50\n",
      "56/56 [==============================] - 3s 62ms/step - loss: 6.4629e-04\n",
      "Epoch 34/50\n",
      "56/56 [==============================] - 3s 61ms/step - loss: 6.0242e-04\n",
      "Epoch 35/50\n",
      "56/56 [==============================] - 3s 61ms/step - loss: 7.2693e-04\n",
      "Epoch 36/50\n",
      "56/56 [==============================] - 3s 61ms/step - loss: 8.0197e-04\n",
      "Epoch 37/50\n",
      "56/56 [==============================] - 3s 61ms/step - loss: 5.1295e-04\n",
      "Epoch 38/50\n",
      "56/56 [==============================] - 3s 61ms/step - loss: 5.6033e-04\n",
      "Epoch 39/50\n",
      "56/56 [==============================] - 3s 61ms/step - loss: 5.1406e-04\n",
      "Epoch 40/50\n",
      "56/56 [==============================] - 3s 61ms/step - loss: 6.8572e-04\n",
      "Epoch 41/50\n",
      "56/56 [==============================] - 3s 61ms/step - loss: 8.1072e-04\n",
      "Epoch 42/50\n",
      "56/56 [==============================] - 3s 62ms/step - loss: 5.1022e-04\n",
      "Epoch 43/50\n",
      "56/56 [==============================] - 3s 61ms/step - loss: 6.5191e-04\n",
      "Epoch 44/50\n",
      "56/56 [==============================] - 3s 61ms/step - loss: 8.0936e-04\n",
      "Epoch 45/50\n",
      "56/56 [==============================] - 3s 61ms/step - loss: 6.0405e-04\n",
      "Epoch 46/50\n",
      "56/56 [==============================] - 3s 61ms/step - loss: 6.9812e-04\n",
      "Epoch 47/50\n",
      "56/56 [==============================] - 3s 61ms/step - loss: 4.7914e-04\n",
      "Epoch 48/50\n",
      "56/56 [==============================] - 3s 61ms/step - loss: 6.5012e-04\n",
      "Epoch 49/50\n",
      "56/56 [==============================] - 3s 61ms/step - loss: 6.0557e-04\n",
      "Epoch 50/50\n",
      "56/56 [==============================] - 3s 60ms/step - loss: 6.0931e-04\n"
     ]
    },
    {
     "data": {
      "text/plain": [
       "<keras.src.callbacks.History at 0x1d56f954ca0>"
      ]
     },
     "execution_count": 16,
     "metadata": {},
     "output_type": "execute_result"
    }
   ],
   "source": [
    "model.fit(x_train, y_train, epochs=50, batch_size=32)"
   ]
  },
  {
   "cell_type": "markdown",
   "metadata": {},
   "source": [
    "## Predictions"
   ]
  },
  {
   "cell_type": "code",
   "execution_count": 17,
   "metadata": {
    "execution": {
     "iopub.execute_input": "2022-01-16T22:26:09.088Z",
     "iopub.status.busy": "2022-01-16T22:26:09.084Z",
     "iopub.status.idle": "2022-01-16T22:26:09.526Z",
     "shell.execute_reply": "2022-01-16T22:26:09.535Z"
    },
    "jupyter": {
     "outputs_hidden": false,
     "source_hidden": false
    },
    "nteract": {
     "transient": {
      "deleting": false
     }
    },
    "scrolled": true
   },
   "outputs": [
    {
     "name": "stdout",
     "output_type": "stream",
     "text": [
      "13/13 [==============================] - 1s 23ms/step\n"
     ]
    },
    {
     "data": {
      "text/plain": [
       "<matplotlib.legend.Legend at 0x1d570e0cc40>"
      ]
     },
     "execution_count": 17,
     "metadata": {},
     "output_type": "execute_result"
    },
    {
     "data": {
      "image/png": "[encoded data removed]",
      "text/plain": [
       "<Figure size 1152x576 with 1 Axes>"
      ]
     },
     "metadata": {
      "needs_background": "light"
     },
     "output_type": "display_data"
    }
   ],
   "source": [
    "predictions = model.predict(x_test)\n",
    "predictions = scaler.inverse_transform(predictions)\n",
    "y_test_scaled = scaler.inverse_transform(y_test.reshape(-1, 1))\n",
    "\n",
    "fig, ax = plt.subplots(figsize=(16,8))\n",
    "ax.set_facecolor('black')\n",
    "ax.plot(y_test_scaled, color='red', label='Original price')\n",
    "plt.plot(predictions, color='cyan', label='Predicted price')\n",
    "plt.title('Stock price vs Predict price')\n",
    "plt.legend()"
   ]
  },
  {
   "cell_type": "markdown",
   "metadata": {},
   "source": [
    "# Testing our model to find closing price for \"15th January 2023\""
   ]
  },
  {
   "cell_type": "code",
   "execution_count": 18,
   "metadata": {},
   "outputs": [
    {
     "name": "stdout",
     "output_type": "stream",
     "text": [
      "Predicted value on 15th January 2023 is 18.815853\n"
     ]
    }
   ],
   "source": [
    "print(\"Predicted value on 15th January 2023 is\",predictions[-1][0])"
   ]
  },
  {
   "cell_type": "code",
   "execution_count": null,
   "metadata": {},
   "outputs": [],
   "source": []
  }
 ],
 "metadata": {
  "kernel_info": {
   "name": "python3"
  },
  "kernelspec": {
   "display_name": "Python 3 (ipykernel)",
   "language": "python",
   "name": "python3"
  },
  "language_info": {
   "codemirror_mode": {
    "name": "ipython",
    "version": 3
   },
   "file_extension": ".py",
   "mimetype": "text/x-python",
   "name": "python",
   "nbconvert_exporter": "python",
   "pygments_lexer": "ipython3",
   "version": "3.9.12"
  },
  "nteract": {
   "version": "0.28.0"
  }
 },
 "nbformat": 4,
 "nbformat_minor": 1
}
